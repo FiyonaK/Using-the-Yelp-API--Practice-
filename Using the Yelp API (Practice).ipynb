{
 "cells": [
  {
   "cell_type": "code",
   "execution_count": 32,
   "id": "427f7eb8-7be4-42ba-8a14-e422def4b7eb",
   "metadata": {},
   "outputs": [],
   "source": [
    "from yelpapi import YelpAPI\n",
    "import json\n",
    "import pandas as pd"
   ]
  },
  {
   "cell_type": "code",
   "execution_count": 33,
   "id": "12100d1e-8f4e-471e-bf4e-b161d90de13b",
   "metadata": {},
   "outputs": [
    {
     "data": {
      "text/plain": [
       "dict_keys(['client-id', 'api-key'])"
      ]
     },
     "execution_count": 33,
     "metadata": {},
     "output_type": "execute_result"
    }
   ],
   "source": [
    "with open('/Users/X435518/.secret/yelp_api.json') as f:\n",
    "    login = json.load(f)\n",
    "login.keys()"
   ]
  },
  {
   "cell_type": "code",
   "execution_count": 34,
   "id": "0bab18a6-1e4e-415f-bf61-d2ba35a333db",
   "metadata": {},
   "outputs": [
    {
     "data": {
      "text/plain": [
       "<yelpapi.yelpapi.YelpAPI at 0x1d4c08092a0>"
      ]
     },
     "execution_count": 34,
     "metadata": {},
     "output_type": "execute_result"
    }
   ],
   "source": [
    "yelp_api = YelpAPI(login['api-key'], timeout_s=5.0)\n",
    "yelp_api"
   ]
  },
  {
   "cell_type": "code",
   "execution_count": 35,
   "id": "fd84b874-2d10-44c7-b6df-9f9d7c3657ee",
   "metadata": {},
   "outputs": [
    {
     "name": "stdout",
     "output_type": "stream",
     "text": [
      "<class 'dict'>\n"
     ]
    },
    {
     "data": {
      "text/plain": [
       "dict_keys(['businesses', 'total', 'region'])"
      ]
     },
     "execution_count": 35,
     "metadata": {},
     "output_type": "execute_result"
    }
   ],
   "source": [
    "search_results = yelp_api.search_query(location='NY, NY',\n",
    "                                       term='Cake')\n",
    "print(type(search_results))\n",
    "search_results.keys()\n"
   ]
  },
  {
   "cell_type": "code",
   "execution_count": 36,
   "id": "68bae411-a836-46e2-9c2c-6b8ba5bfd288",
   "metadata": {},
   "outputs": [
    {
     "data": {
      "text/plain": [
       "17100"
      ]
     },
     "execution_count": 36,
     "metadata": {},
     "output_type": "execute_result"
    }
   ],
   "source": [
    "search_results['total']"
   ]
  },
  {
   "cell_type": "code",
   "execution_count": 37,
   "id": "11fda870-23d3-48e2-bcec-69c3c2e33197",
   "metadata": {},
   "outputs": [
    {
     "data": {
      "text/html": [
       "<div>\n",
       "<style scoped>\n",
       "    .dataframe tbody tr th:only-of-type {\n",
       "        vertical-align: middle;\n",
       "    }\n",
       "\n",
       "    .dataframe tbody tr th {\n",
       "        vertical-align: top;\n",
       "    }\n",
       "\n",
       "    .dataframe thead th {\n",
       "        text-align: right;\n",
       "    }\n",
       "</style>\n",
       "<table border=\"1\" class=\"dataframe\">\n",
       "  <thead>\n",
       "    <tr style=\"text-align: right;\">\n",
       "      <th></th>\n",
       "      <th>id</th>\n",
       "      <th>alias</th>\n",
       "      <th>name</th>\n",
       "      <th>image_url</th>\n",
       "      <th>is_closed</th>\n",
       "      <th>url</th>\n",
       "      <th>review_count</th>\n",
       "      <th>categories</th>\n",
       "      <th>rating</th>\n",
       "      <th>coordinates</th>\n",
       "      <th>transactions</th>\n",
       "      <th>price</th>\n",
       "      <th>location</th>\n",
       "      <th>phone</th>\n",
       "      <th>display_phone</th>\n",
       "      <th>distance</th>\n",
       "    </tr>\n",
       "  </thead>\n",
       "  <tbody>\n",
       "    <tr>\n",
       "      <th>0</th>\n",
       "      <td>jWC4mD-yy-IzuZxU5ctAKw</td>\n",
       "      <td>mias-bakery-brooklyn</td>\n",
       "      <td>Mia's Bakery</td>\n",
       "      <td>https://s3-media2.fl.yelpcdn.com/bphoto/-soBQt...</td>\n",
       "      <td>False</td>\n",
       "      <td>https://www.yelp.com/biz/mias-bakery-brooklyn?...</td>\n",
       "      <td>1106</td>\n",
       "      <td>[{'alias': 'bakeries', 'title': 'Bakeries'}, {...</td>\n",
       "      <td>4.5</td>\n",
       "      <td>{'latitude': 40.6870199, 'longitude': -73.9901...</td>\n",
       "      <td>[pickup, delivery]</td>\n",
       "      <td>$$</td>\n",
       "      <td>{'address1': '139 Smith St', 'address2': None,...</td>\n",
       "      <td>+13479873194</td>\n",
       "      <td>(347) 987-3194</td>\n",
       "      <td>2081.025886</td>\n",
       "    </tr>\n",
       "    <tr>\n",
       "      <th>1</th>\n",
       "      <td>5jykT4A_mz1lgWk6btnZbw</td>\n",
       "      <td>lady-wong-new-york</td>\n",
       "      <td>Lady Wong</td>\n",
       "      <td>https://s3-media3.fl.yelpcdn.com/bphoto/OgLViI...</td>\n",
       "      <td>False</td>\n",
       "      <td>https://www.yelp.com/biz/lady-wong-new-york?ad...</td>\n",
       "      <td>222</td>\n",
       "      <td>[{'alias': 'bakeries', 'title': 'Bakeries'}, {...</td>\n",
       "      <td>4.5</td>\n",
       "      <td>{'latitude': 40.72850883077059, 'longitude': -...</td>\n",
       "      <td>[]</td>\n",
       "      <td>NaN</td>\n",
       "      <td>{'address1': '332 E 9th St', 'address2': '', '...</td>\n",
       "      <td>+16464227189</td>\n",
       "      <td>(646) 422-7189</td>\n",
       "      <td>2654.798062</td>\n",
       "    </tr>\n",
       "  </tbody>\n",
       "</table>\n",
       "</div>"
      ],
      "text/plain": [
       "                       id                 alias          name  \\\n",
       "0  jWC4mD-yy-IzuZxU5ctAKw  mias-bakery-brooklyn  Mia's Bakery   \n",
       "1  5jykT4A_mz1lgWk6btnZbw    lady-wong-new-york     Lady Wong   \n",
       "\n",
       "                                           image_url  is_closed  \\\n",
       "0  https://s3-media2.fl.yelpcdn.com/bphoto/-soBQt...      False   \n",
       "1  https://s3-media3.fl.yelpcdn.com/bphoto/OgLViI...      False   \n",
       "\n",
       "                                                 url  review_count  \\\n",
       "0  https://www.yelp.com/biz/mias-bakery-brooklyn?...          1106   \n",
       "1  https://www.yelp.com/biz/lady-wong-new-york?ad...           222   \n",
       "\n",
       "                                          categories  rating  \\\n",
       "0  [{'alias': 'bakeries', 'title': 'Bakeries'}, {...     4.5   \n",
       "1  [{'alias': 'bakeries', 'title': 'Bakeries'}, {...     4.5   \n",
       "\n",
       "                                         coordinates        transactions  \\\n",
       "0  {'latitude': 40.6870199, 'longitude': -73.9901...  [pickup, delivery]   \n",
       "1  {'latitude': 40.72850883077059, 'longitude': -...                  []   \n",
       "\n",
       "  price                                           location         phone  \\\n",
       "0    $$  {'address1': '139 Smith St', 'address2': None,...  +13479873194   \n",
       "1   NaN  {'address1': '332 E 9th St', 'address2': '', '...  +16464227189   \n",
       "\n",
       "    display_phone     distance  \n",
       "0  (347) 987-3194  2081.025886  \n",
       "1  (646) 422-7189  2654.798062  "
      ]
     },
     "execution_count": 37,
     "metadata": {},
     "output_type": "execute_result"
    }
   ],
   "source": [
    "cake = pd.DataFrame(search_results['businesses'])\n",
    "cake.head(2) "
   ]
  },
  {
   "cell_type": "code",
   "execution_count": 38,
   "id": "afba0da5-c7b4-4dd3-9354-1f7c66ce92f4",
   "metadata": {},
   "outputs": [
    {
     "data": {
      "text/plain": [
       "17100"
      ]
     },
     "execution_count": 38,
     "metadata": {},
     "output_type": "execute_result"
    }
   ],
   "source": [
    "search_results['total']"
   ]
  },
  {
   "cell_type": "code",
   "execution_count": 39,
   "id": "e54b4097-a23b-4197-bd89-5a414bc5793d",
   "metadata": {},
   "outputs": [
    {
     "data": {
      "text/plain": [
       "20"
      ]
     },
     "execution_count": 39,
     "metadata": {},
     "output_type": "execute_result"
    }
   ],
   "source": [
    "len(search_results['businesses'])"
   ]
  },
  {
   "cell_type": "code",
   "execution_count": 40,
   "id": "275606b5-3eb9-4be5-83fa-1698c9ce3a98",
   "metadata": {},
   "outputs": [
    {
     "name": "stdout",
     "output_type": "stream",
     "text": [
      "<class 'dict'>\n"
     ]
    },
    {
     "data": {
      "text/plain": [
       "dict_keys(['businesses', 'total', 'region'])"
      ]
     },
     "execution_count": 40,
     "metadata": {},
     "output_type": "execute_result"
    }
   ],
   "source": [
    "search_results_20 = yelp_api.search_query(location='NY, NY',\n",
    "                                       term='Cake',\n",
    "                                      offest = 20)\n",
    "print(type(search_results_20))\n",
    "search_results_20.keys()"
   ]
  },
  {
   "cell_type": "code",
   "execution_count": 41,
   "id": "35ed853f-8eca-4d43-9360-f9f4251736fd",
   "metadata": {},
   "outputs": [
    {
     "data": {
      "text/html": [
       "<div>\n",
       "<style scoped>\n",
       "    .dataframe tbody tr th:only-of-type {\n",
       "        vertical-align: middle;\n",
       "    }\n",
       "\n",
       "    .dataframe tbody tr th {\n",
       "        vertical-align: top;\n",
       "    }\n",
       "\n",
       "    .dataframe thead th {\n",
       "        text-align: right;\n",
       "    }\n",
       "</style>\n",
       "<table border=\"1\" class=\"dataframe\">\n",
       "  <thead>\n",
       "    <tr style=\"text-align: right;\">\n",
       "      <th></th>\n",
       "      <th>id</th>\n",
       "      <th>alias</th>\n",
       "      <th>name</th>\n",
       "      <th>image_url</th>\n",
       "      <th>is_closed</th>\n",
       "      <th>url</th>\n",
       "      <th>review_count</th>\n",
       "      <th>categories</th>\n",
       "      <th>rating</th>\n",
       "      <th>coordinates</th>\n",
       "      <th>transactions</th>\n",
       "      <th>price</th>\n",
       "      <th>location</th>\n",
       "      <th>phone</th>\n",
       "      <th>display_phone</th>\n",
       "      <th>distance</th>\n",
       "    </tr>\n",
       "  </thead>\n",
       "  <tbody>\n",
       "    <tr>\n",
       "      <th>0</th>\n",
       "      <td>jWC4mD-yy-IzuZxU5ctAKw</td>\n",
       "      <td>mias-bakery-brooklyn</td>\n",
       "      <td>Mia's Bakery</td>\n",
       "      <td>https://s3-media2.fl.yelpcdn.com/bphoto/-soBQt...</td>\n",
       "      <td>False</td>\n",
       "      <td>https://www.yelp.com/biz/mias-bakery-brooklyn?...</td>\n",
       "      <td>1106</td>\n",
       "      <td>[{'alias': 'bakeries', 'title': 'Bakeries'}, {...</td>\n",
       "      <td>4.5</td>\n",
       "      <td>{'latitude': 40.6870199, 'longitude': -73.9901...</td>\n",
       "      <td>[delivery, pickup]</td>\n",
       "      <td>$$</td>\n",
       "      <td>{'address1': '139 Smith St', 'address2': None,...</td>\n",
       "      <td>+13479873194</td>\n",
       "      <td>(347) 987-3194</td>\n",
       "      <td>2081.025886</td>\n",
       "    </tr>\n",
       "    <tr>\n",
       "      <th>1</th>\n",
       "      <td>5jykT4A_mz1lgWk6btnZbw</td>\n",
       "      <td>lady-wong-new-york</td>\n",
       "      <td>Lady Wong</td>\n",
       "      <td>https://s3-media3.fl.yelpcdn.com/bphoto/OgLViI...</td>\n",
       "      <td>False</td>\n",
       "      <td>https://www.yelp.com/biz/lady-wong-new-york?ad...</td>\n",
       "      <td>222</td>\n",
       "      <td>[{'alias': 'bakeries', 'title': 'Bakeries'}, {...</td>\n",
       "      <td>4.5</td>\n",
       "      <td>{'latitude': 40.72850883077059, 'longitude': -...</td>\n",
       "      <td>[]</td>\n",
       "      <td>NaN</td>\n",
       "      <td>{'address1': '332 E 9th St', 'address2': '', '...</td>\n",
       "      <td>+16464227189</td>\n",
       "      <td>(646) 422-7189</td>\n",
       "      <td>2654.798062</td>\n",
       "    </tr>\n",
       "  </tbody>\n",
       "</table>\n",
       "</div>"
      ],
      "text/plain": [
       "                       id                 alias          name  \\\n",
       "0  jWC4mD-yy-IzuZxU5ctAKw  mias-bakery-brooklyn  Mia's Bakery   \n",
       "1  5jykT4A_mz1lgWk6btnZbw    lady-wong-new-york     Lady Wong   \n",
       "\n",
       "                                           image_url  is_closed  \\\n",
       "0  https://s3-media2.fl.yelpcdn.com/bphoto/-soBQt...      False   \n",
       "1  https://s3-media3.fl.yelpcdn.com/bphoto/OgLViI...      False   \n",
       "\n",
       "                                                 url  review_count  \\\n",
       "0  https://www.yelp.com/biz/mias-bakery-brooklyn?...          1106   \n",
       "1  https://www.yelp.com/biz/lady-wong-new-york?ad...           222   \n",
       "\n",
       "                                          categories  rating  \\\n",
       "0  [{'alias': 'bakeries', 'title': 'Bakeries'}, {...     4.5   \n",
       "1  [{'alias': 'bakeries', 'title': 'Bakeries'}, {...     4.5   \n",
       "\n",
       "                                         coordinates        transactions  \\\n",
       "0  {'latitude': 40.6870199, 'longitude': -73.9901...  [delivery, pickup]   \n",
       "1  {'latitude': 40.72850883077059, 'longitude': -...                  []   \n",
       "\n",
       "  price                                           location         phone  \\\n",
       "0    $$  {'address1': '139 Smith St', 'address2': None,...  +13479873194   \n",
       "1   NaN  {'address1': '332 E 9th St', 'address2': '', '...  +16464227189   \n",
       "\n",
       "    display_phone     distance  \n",
       "0  (347) 987-3194  2081.025886  \n",
       "1  (646) 422-7189  2654.798062  "
      ]
     },
     "execution_count": 41,
     "metadata": {},
     "output_type": "execute_result"
    }
   ],
   "source": [
    "cake20 = pd.DataFrame(search_results_20['businesses'])\n",
    "cake20.head(2) "
   ]
  },
  {
   "cell_type": "code",
   "execution_count": 42,
   "id": "c8b36cb1-972b-4bf1-8b54-0016775b0fb2",
   "metadata": {},
   "outputs": [
    {
     "data": {
      "text/html": [
       "<div>\n",
       "<style scoped>\n",
       "    .dataframe tbody tr th:only-of-type {\n",
       "        vertical-align: middle;\n",
       "    }\n",
       "\n",
       "    .dataframe tbody tr th {\n",
       "        vertical-align: top;\n",
       "    }\n",
       "\n",
       "    .dataframe thead th {\n",
       "        text-align: right;\n",
       "    }\n",
       "</style>\n",
       "<table border=\"1\" class=\"dataframe\">\n",
       "  <thead>\n",
       "    <tr style=\"text-align: right;\">\n",
       "      <th></th>\n",
       "      <th>id</th>\n",
       "      <th>alias</th>\n",
       "      <th>name</th>\n",
       "      <th>image_url</th>\n",
       "      <th>is_closed</th>\n",
       "      <th>url</th>\n",
       "      <th>review_count</th>\n",
       "      <th>categories</th>\n",
       "      <th>rating</th>\n",
       "      <th>coordinates</th>\n",
       "      <th>transactions</th>\n",
       "      <th>price</th>\n",
       "      <th>location</th>\n",
       "      <th>phone</th>\n",
       "      <th>display_phone</th>\n",
       "      <th>distance</th>\n",
       "    </tr>\n",
       "  </thead>\n",
       "  <tbody>\n",
       "    <tr>\n",
       "      <th>0</th>\n",
       "      <td>jWC4mD-yy-IzuZxU5ctAKw</td>\n",
       "      <td>mias-bakery-brooklyn</td>\n",
       "      <td>Mia's Bakery</td>\n",
       "      <td>https://s3-media2.fl.yelpcdn.com/bphoto/-soBQt...</td>\n",
       "      <td>False</td>\n",
       "      <td>https://www.yelp.com/biz/mias-bakery-brooklyn?...</td>\n",
       "      <td>1106</td>\n",
       "      <td>[{'alias': 'bakeries', 'title': 'Bakeries'}, {...</td>\n",
       "      <td>4.5</td>\n",
       "      <td>{'latitude': 40.6870199, 'longitude': -73.9901...</td>\n",
       "      <td>[pickup, delivery]</td>\n",
       "      <td>$$</td>\n",
       "      <td>{'address1': '139 Smith St', 'address2': None,...</td>\n",
       "      <td>+13479873194</td>\n",
       "      <td>(347) 987-3194</td>\n",
       "      <td>2081.025886</td>\n",
       "    </tr>\n",
       "    <tr>\n",
       "      <th>1</th>\n",
       "      <td>5jykT4A_mz1lgWk6btnZbw</td>\n",
       "      <td>lady-wong-new-york</td>\n",
       "      <td>Lady Wong</td>\n",
       "      <td>https://s3-media3.fl.yelpcdn.com/bphoto/OgLViI...</td>\n",
       "      <td>False</td>\n",
       "      <td>https://www.yelp.com/biz/lady-wong-new-york?ad...</td>\n",
       "      <td>222</td>\n",
       "      <td>[{'alias': 'bakeries', 'title': 'Bakeries'}, {...</td>\n",
       "      <td>4.5</td>\n",
       "      <td>{'latitude': 40.72850883077059, 'longitude': -...</td>\n",
       "      <td>[]</td>\n",
       "      <td>NaN</td>\n",
       "      <td>{'address1': '332 E 9th St', 'address2': '', '...</td>\n",
       "      <td>+16464227189</td>\n",
       "      <td>(646) 422-7189</td>\n",
       "      <td>2654.798062</td>\n",
       "    </tr>\n",
       "    <tr>\n",
       "      <th>2</th>\n",
       "      <td>GlPJPpKvPR4d8dmcSEYpdA</td>\n",
       "      <td>takahachi-bakery-new-york</td>\n",
       "      <td>Takahachi Bakery</td>\n",
       "      <td>https://s3-media4.fl.yelpcdn.com/bphoto/PCiqy5...</td>\n",
       "      <td>False</td>\n",
       "      <td>https://www.yelp.com/biz/takahachi-bakery-new-...</td>\n",
       "      <td>1036</td>\n",
       "      <td>[{'alias': 'bakeries', 'title': 'Bakeries'}, {...</td>\n",
       "      <td>4.0</td>\n",
       "      <td>{'latitude': 40.71373, 'longitude': -74.00843}</td>\n",
       "      <td>[pickup, delivery]</td>\n",
       "      <td>$$</td>\n",
       "      <td>{'address1': '25 Murray St', 'address2': '', '...</td>\n",
       "      <td>+12127915550</td>\n",
       "      <td>(212) 791-5550</td>\n",
       "      <td>1509.734023</td>\n",
       "    </tr>\n",
       "  </tbody>\n",
       "</table>\n",
       "</div>"
      ],
      "text/plain": [
       "                       id                      alias              name  \\\n",
       "0  jWC4mD-yy-IzuZxU5ctAKw       mias-bakery-brooklyn      Mia's Bakery   \n",
       "1  5jykT4A_mz1lgWk6btnZbw         lady-wong-new-york         Lady Wong   \n",
       "2  GlPJPpKvPR4d8dmcSEYpdA  takahachi-bakery-new-york  Takahachi Bakery   \n",
       "\n",
       "                                           image_url  is_closed  \\\n",
       "0  https://s3-media2.fl.yelpcdn.com/bphoto/-soBQt...      False   \n",
       "1  https://s3-media3.fl.yelpcdn.com/bphoto/OgLViI...      False   \n",
       "2  https://s3-media4.fl.yelpcdn.com/bphoto/PCiqy5...      False   \n",
       "\n",
       "                                                 url  review_count  \\\n",
       "0  https://www.yelp.com/biz/mias-bakery-brooklyn?...          1106   \n",
       "1  https://www.yelp.com/biz/lady-wong-new-york?ad...           222   \n",
       "2  https://www.yelp.com/biz/takahachi-bakery-new-...          1036   \n",
       "\n",
       "                                          categories  rating  \\\n",
       "0  [{'alias': 'bakeries', 'title': 'Bakeries'}, {...     4.5   \n",
       "1  [{'alias': 'bakeries', 'title': 'Bakeries'}, {...     4.5   \n",
       "2  [{'alias': 'bakeries', 'title': 'Bakeries'}, {...     4.0   \n",
       "\n",
       "                                         coordinates        transactions  \\\n",
       "0  {'latitude': 40.6870199, 'longitude': -73.9901...  [pickup, delivery]   \n",
       "1  {'latitude': 40.72850883077059, 'longitude': -...                  []   \n",
       "2     {'latitude': 40.71373, 'longitude': -74.00843}  [pickup, delivery]   \n",
       "\n",
       "  price                                           location         phone  \\\n",
       "0    $$  {'address1': '139 Smith St', 'address2': None,...  +13479873194   \n",
       "1   NaN  {'address1': '332 E 9th St', 'address2': '', '...  +16464227189   \n",
       "2    $$  {'address1': '25 Murray St', 'address2': '', '...  +12127915550   \n",
       "\n",
       "    display_phone     distance  \n",
       "0  (347) 987-3194  2081.025886  \n",
       "1  (646) 422-7189  2654.798062  \n",
       "2  (212) 791-5550  1509.734023  "
      ]
     },
     "metadata": {},
     "output_type": "display_data"
    },
    {
     "data": {
      "text/html": [
       "<div>\n",
       "<style scoped>\n",
       "    .dataframe tbody tr th:only-of-type {\n",
       "        vertical-align: middle;\n",
       "    }\n",
       "\n",
       "    .dataframe tbody tr th {\n",
       "        vertical-align: top;\n",
       "    }\n",
       "\n",
       "    .dataframe thead th {\n",
       "        text-align: right;\n",
       "    }\n",
       "</style>\n",
       "<table border=\"1\" class=\"dataframe\">\n",
       "  <thead>\n",
       "    <tr style=\"text-align: right;\">\n",
       "      <th></th>\n",
       "      <th>id</th>\n",
       "      <th>alias</th>\n",
       "      <th>name</th>\n",
       "      <th>image_url</th>\n",
       "      <th>is_closed</th>\n",
       "      <th>url</th>\n",
       "      <th>review_count</th>\n",
       "      <th>categories</th>\n",
       "      <th>rating</th>\n",
       "      <th>coordinates</th>\n",
       "      <th>transactions</th>\n",
       "      <th>price</th>\n",
       "      <th>location</th>\n",
       "      <th>phone</th>\n",
       "      <th>display_phone</th>\n",
       "      <th>distance</th>\n",
       "    </tr>\n",
       "  </thead>\n",
       "  <tbody>\n",
       "    <tr>\n",
       "      <th>37</th>\n",
       "      <td>s1pJHjoce-IbHQiCe4mA3w</td>\n",
       "      <td>marthas-country-bakery-brooklyn-2</td>\n",
       "      <td>Martha's Country Bakery</td>\n",
       "      <td>https://s3-media1.fl.yelpcdn.com/bphoto/So6BeZ...</td>\n",
       "      <td>False</td>\n",
       "      <td>https://www.yelp.com/biz/marthas-country-baker...</td>\n",
       "      <td>1026</td>\n",
       "      <td>[{'alias': 'bakeries', 'title': 'Bakeries'}, {...</td>\n",
       "      <td>4.5</td>\n",
       "      <td>{'latitude': 40.714919058367784, 'longitude': ...</td>\n",
       "      <td>[delivery]</td>\n",
       "      <td>$$</td>\n",
       "      <td>{'address1': '263 Bedford Ave', 'address2': ''...</td>\n",
       "      <td>+17185990900</td>\n",
       "      <td>(718) 599-0900</td>\n",
       "      <td>3033.589633</td>\n",
       "    </tr>\n",
       "    <tr>\n",
       "      <th>38</th>\n",
       "      <td>xpDp5zKQJHu7Ljgs1PKLJw</td>\n",
       "      <td>la-cabra-new-york-2</td>\n",
       "      <td>La Cabra</td>\n",
       "      <td>https://s3-media1.fl.yelpcdn.com/bphoto/0DzZgS...</td>\n",
       "      <td>False</td>\n",
       "      <td>https://www.yelp.com/biz/la-cabra-new-york-2?a...</td>\n",
       "      <td>288</td>\n",
       "      <td>[{'alias': 'bakeries', 'title': 'Bakeries'}, {...</td>\n",
       "      <td>4.5</td>\n",
       "      <td>{'latitude': 40.729463036209495, 'longitude': ...</td>\n",
       "      <td>[]</td>\n",
       "      <td>$$</td>\n",
       "      <td>{'address1': '152 2nd Ave', 'address2': '', 'a...</td>\n",
       "      <td></td>\n",
       "      <td></td>\n",
       "      <td>2743.414602</td>\n",
       "    </tr>\n",
       "    <tr>\n",
       "      <th>39</th>\n",
       "      <td>Tns-1BJip9a6K-O6V2pyUQ</td>\n",
       "      <td>red-gate-bakery-new-york</td>\n",
       "      <td>Red Gate Bakery</td>\n",
       "      <td>https://s3-media1.fl.yelpcdn.com/bphoto/mVEEjx...</td>\n",
       "      <td>False</td>\n",
       "      <td>https://www.yelp.com/biz/red-gate-bakery-new-y...</td>\n",
       "      <td>80</td>\n",
       "      <td>[{'alias': 'bakeries', 'title': 'Bakeries'}, {...</td>\n",
       "      <td>4.5</td>\n",
       "      <td>{'latitude': 40.723717, 'longitude': -73.988806}</td>\n",
       "      <td>[delivery, pickup]</td>\n",
       "      <td>NaN</td>\n",
       "      <td>{'address1': '68 E 1st St', 'address2': '', 'a...</td>\n",
       "      <td>+16468705553</td>\n",
       "      <td>(646) 870-5553</td>\n",
       "      <td>2081.355231</td>\n",
       "    </tr>\n",
       "  </tbody>\n",
       "</table>\n",
       "</div>"
      ],
      "text/plain": [
       "                        id                              alias  \\\n",
       "37  s1pJHjoce-IbHQiCe4mA3w  marthas-country-bakery-brooklyn-2   \n",
       "38  xpDp5zKQJHu7Ljgs1PKLJw                la-cabra-new-york-2   \n",
       "39  Tns-1BJip9a6K-O6V2pyUQ           red-gate-bakery-new-york   \n",
       "\n",
       "                       name  \\\n",
       "37  Martha's Country Bakery   \n",
       "38                 La Cabra   \n",
       "39          Red Gate Bakery   \n",
       "\n",
       "                                            image_url  is_closed  \\\n",
       "37  https://s3-media1.fl.yelpcdn.com/bphoto/So6BeZ...      False   \n",
       "38  https://s3-media1.fl.yelpcdn.com/bphoto/0DzZgS...      False   \n",
       "39  https://s3-media1.fl.yelpcdn.com/bphoto/mVEEjx...      False   \n",
       "\n",
       "                                                  url  review_count  \\\n",
       "37  https://www.yelp.com/biz/marthas-country-baker...          1026   \n",
       "38  https://www.yelp.com/biz/la-cabra-new-york-2?a...           288   \n",
       "39  https://www.yelp.com/biz/red-gate-bakery-new-y...            80   \n",
       "\n",
       "                                           categories  rating  \\\n",
       "37  [{'alias': 'bakeries', 'title': 'Bakeries'}, {...     4.5   \n",
       "38  [{'alias': 'bakeries', 'title': 'Bakeries'}, {...     4.5   \n",
       "39  [{'alias': 'bakeries', 'title': 'Bakeries'}, {...     4.5   \n",
       "\n",
       "                                          coordinates        transactions  \\\n",
       "37  {'latitude': 40.714919058367784, 'longitude': ...          [delivery]   \n",
       "38  {'latitude': 40.729463036209495, 'longitude': ...                  []   \n",
       "39   {'latitude': 40.723717, 'longitude': -73.988806}  [delivery, pickup]   \n",
       "\n",
       "   price                                           location         phone  \\\n",
       "37    $$  {'address1': '263 Bedford Ave', 'address2': ''...  +17185990900   \n",
       "38    $$  {'address1': '152 2nd Ave', 'address2': '', 'a...                 \n",
       "39   NaN  {'address1': '68 E 1st St', 'address2': '', 'a...  +16468705553   \n",
       "\n",
       "     display_phone     distance  \n",
       "37  (718) 599-0900  3033.589633  \n",
       "38                  2743.414602  \n",
       "39  (646) 870-5553  2081.355231  "
      ]
     },
     "metadata": {},
     "output_type": "display_data"
    }
   ],
   "source": [
    "all_cake = pd.concat([cake, cake20],\n",
    "                      ignore_index=True)\n",
    "display(all_cake.head(3), all_cake.tail(3))"
   ]
  },
  {
   "cell_type": "code",
   "execution_count": 43,
   "id": "466e0b78-a17b-4bb8-979c-f78cbc2a0194",
   "metadata": {},
   "outputs": [
    {
     "data": {
      "text/plain": [
       "'[{\"id\":\"jWC4mD-yy-IzuZxU5ctAKw\",\"alias\":\"mias-bakery-brooklyn\",\"name\":\"Mia\\'s Bakery\",\"image_url\":\"https:\\\\/\\\\/s3-media2.fl.yelpcdn.com\\\\/bphoto\\\\/-soBQtUWqlrk3Ztrad9d-w\\\\/o.jpg\",\"is_closed\":false,\"url\":\"https:\\\\/\\\\/www.yelp.com\\\\/biz\\\\/mias-bakery-brooklyn?adjust_creative=oRA1OcnNt5xStRQCGilLQA&utm_campaign=yelp_api_v3&utm_medium=api_v3_business_search&utm_source=oRA1OcnNt5xStRQCGilLQA\",\"review_count\":1106,\"categories\":[{\"alias\":\"bakeries\",\"title\":\"Bakeries\"},{\"alias\":\"cafes\",\"title\":\"Cafes\"},{\"alias\":\"desserts\",\"title\":\"Desserts\"}],\"rating\":4.5,\"coordinates\":{\"latitude\":40.6870199,\"longitude\":-73.9901299},\"transactions\":[\"pickup\",\"delivery\"],\"price\":\"$$\",\"location\":{\"address1\":\"139 Smith St\",\"address2\":null,\"address3\":\"\",\"city\":\"Brooklyn\",\"zip_code\":\"11201\",\"country\":\"US\",\"state\":\"NY\",\"display_address\":[\"139 Smith St\",\"Brooklyn, NY 11201\"]},\"phone\":\"+13479873194\",\"display_phone\":\"(347) 987-3194\",\"distance\":2081.025885949},{\"id\":\"5jykT4A_mz1lgWk6btnZbw\",\"alias\":\"lady-wong-new-york\",\"name\":\"Lady Wong\",\"image_url\":\"https:\\\\/\\\\/s3-media3.fl.yelpcdn.com\\\\/bphoto\\\\/OgLViI70GHbdVEZdP7aLcg\\\\/o.jpg\",\"is_closed\":false,\"url\":\"https:\\\\/\\\\/www.yelp.com\\\\/biz\\\\/lady-wong-new-york?adjust_creative=oRA1OcnNt5xStRQCGilLQA&utm_campaign=yelp_api_v3&utm_medium=api_v3_business_search&utm_source=oRA1OcnNt5xStRQCGilLQA\",\"review_count\":222,\"categories\":[{\"alias\":\"bakeries\",\"title\":\"Bakeries\"},{\"alias\":\"desserts\",\"title\":\"Desserts\"}],\"rating\":4.5,\"coordinates\":{\"latitude\":40.7285088308,\"longitude\":-73.9861517027},\"transactions\":[],\"price\":null,\"location\":{\"address1\":\"332 E 9th St\",\"address2\":\"\",\"address3\":null,\"city\":\"New York\",\"zip_code\":\"10003\",\"country\":\"US\",\"state\":\"NY\",\"display_address\":[\"332 E 9th St\",\"New York, NY 10003\"]},\"phone\":\"+16464227189\",\"display_phone\":\"(646) 422-7189\",\"distance\":2654.7980615613},{\"id\":\"GlPJPpKvPR4d8dmcSEYpdA\",\"alias\":\"takahachi-bakery-new-york\",\"name\":\"Takahachi Bakery\",\"image_url\":\"https:\\\\/\\\\/s3-media4.fl.yelpcdn.com\\\\/bphoto\\\\/PCiqy58NGEFul3LZ8jgBig\\\\/o.jpg\",\"is_closed\":false,\"url\":\"https:\\\\/\\\\/www.yelp.com\\\\/biz\\\\/takahachi-bakery-new-york?adjust_creative=oRA1OcnNt5xStRQCGilLQA&utm_campaign=yelp_api_v3&utm_medium=api_v3_business_search&utm_source=oRA1OcnNt5xStRQCGilLQA\",\"review_count\":1036,\"categories\":[{\"alias\":\"bakeries\",\"title\":\"Bakeries\"},{\"alias\":\"japanese\",\"title\":\"Japanese\"},{\"alias\":\"coffee\",\"title\":\"Coffee & Tea\"}],\"rating\":4.0,\"coordinates\":{\"latitude\":40.71373,\"longitude\":-74.00843},\"transactions\":[\"pickup\",\"delivery\"],\"price\":\"$$\",\"location\":{\"address1\":\"25 Murray St\",\"address2\":\"\",\"address3\":\"\",\"city\":\"New York\",\"zip_code\":\"10007\",\"country\":\"US\",\"state\":\"NY\",\"display_address\":[\"25 Murray St\",\"New York, NY 10007\"]},\"phone\":\"+12127915550\",\"display_phone\":\"(212) 791-5550\",\"distance\":1509.7340230357},{\"id\":\"0tJEDmeNMLueSGLNTF0JFg\",\"alias\":\"angelina-bakery-new-york\",\"name\":\"Angelina Bakery\",\"image_url\":\"https:\\\\/\\\\/s3-media1.fl.yelpcdn.com\\\\/bphoto\\\\/olKH0rscc_JteE9OzTEvQA\\\\/o.jpg\",\"is_closed\":false,\"url\":\"https:\\\\/\\\\/www.yelp.com\\\\/biz\\\\/angelina-bakery-new-york?adjust_creative=oRA1OcnNt5xStRQCGilLQA&utm_campaign=yelp_api_v3&utm_medium=api_v3_business_search&utm_source=oRA1OcnNt5xStRQCGilLQA\",\"review_count\":637,\"categories\":[{\"alias\":\"bakeries\",\"title\":\"Bakeries\"},{\"alias\":\"desserts\",\"title\":\"Desserts\"},{\"alias\":\"donuts\",\"title\":\"Donuts\"}],\"rating\":4.5,\"coordinates\":{\"latitude\":40.75498,\"longitude\":-73.99166},\"transactions\":[\"pickup\",\"delivery\"],\"price\":\"$$\",\"location\":{\"address1\":\"575 8th Ave\",\"address2\":null,\"address3\":\"\",\"city\":\"New York\",\"zip_code\":\"10018\",\"country\":\"US\",\"state\":\"NY\",\"display_address\":[\"575 8th Ave\",\"New York, NY 10018\"]},\"phone\":\"+12126877100\",\"display_phone\":\"(212) 687-7100\",\"distance\":5517.1766807246},{\"id\":\"aDtpySFIJO5C3ULTlSOfkw\",\"alias\":\"capy-new-york-6\",\"name\":\"Capy\",\"image_url\":\"https:\\\\/\\\\/s3-media1.fl.yelpcdn.com\\\\/bphoto\\\\/Q4cJpNis9sIP93OVIPWHEg\\\\/o.jpg\",\"is_closed\":false,\"url\":\"https:\\\\/\\\\/www.yelp.com\\\\/biz\\\\/capy-new-york-6?adjust_creative=oRA1OcnNt5xStRQCGilLQA&utm_campaign=yelp_api_v3&utm_medium=api_v3_business_search&utm_source=oRA1OcnNt5xStRQCGilLQA\",\"review_count\":29,\"categories\":[{\"alias\":\"bakeries\",\"title\":\"Bakeries\"},{\"alias\":\"desserts\",\"title\":\"Desserts\"}],\"rating\":4.5,\"coordinates\":{\"latitude\":40.7180109352,\"longitude\":-73.9978693953},\"transactions\":[],\"price\":\"$$\",\"location\":{\"address1\":\"128 Mulberry St\",\"address2\":\"\",\"address3\":null,\"city\":\"New York\",\"zip_code\":\"10013\",\"country\":\"US\",\"state\":\"NY\",\"display_address\":[\"128 Mulberry St\",\"New York, NY 10013\"]},\"phone\":\"\",\"display_phone\":\"\",\"distance\":1429.4233382684},{\"id\":\"MBQg0-g_iiIEY4hzLiezKg\",\"alias\":\"kuih-cafe-new-york\",\"name\":\"Kuih Cafe\",\"image_url\":\"https:\\\\/\\\\/s3-media2.fl.yelpcdn.com\\\\/bphoto\\\\/mJ0PPCwmRLh_0-L0sx7eMQ\\\\/o.jpg\",\"is_closed\":false,\"url\":\"https:\\\\/\\\\/www.yelp.com\\\\/biz\\\\/kuih-cafe-new-york?adjust_creative=oRA1OcnNt5xStRQCGilLQA&utm_campaign=yelp_api_v3&utm_medium=api_v3_business_search&utm_source=oRA1OcnNt5xStRQCGilLQA\",\"review_count\":86,\"categories\":[{\"alias\":\"desserts\",\"title\":\"Desserts\"},{\"alias\":\"malaysian\",\"title\":\"Malaysian\"},{\"alias\":\"cafes\",\"title\":\"Cafes\"}],\"rating\":4.5,\"coordinates\":{\"latitude\":40.7159528408,\"longitude\":-73.993002671},\"transactions\":[\"delivery\"],\"price\":null,\"location\":{\"address1\":\"46 Eldridge St\",\"address2\":null,\"address3\":\"\",\"city\":\"New York\",\"zip_code\":\"10002\",\"country\":\"US\",\"state\":\"NY\",\"display_address\":[\"46 Eldridge St\",\"New York, NY 10002\"]},\"phone\":\"+16467999340\",\"display_phone\":\"(646) 799-9340\",\"distance\":1173.4847241125},{\"id\":\"8hdjmWfjOB6o37xrCzhoug\",\"alias\":\"from-lucie-new-york\",\"name\":\"From Lucie\",\"image_url\":\"https:\\\\/\\\\/s3-media1.fl.yelpcdn.com\\\\/bphoto\\\\/Aq9kjCCDrFOz4lj75W2aig\\\\/o.jpg\",\"is_closed\":false,\"url\":\"https:\\\\/\\\\/www.yelp.com\\\\/biz\\\\/from-lucie-new-york?adjust_creative=oRA1OcnNt5xStRQCGilLQA&utm_campaign=yelp_api_v3&utm_medium=api_v3_business_search&utm_source=oRA1OcnNt5xStRQCGilLQA\",\"review_count\":61,\"categories\":[{\"alias\":\"customcakes\",\"title\":\"Custom Cakes\"},{\"alias\":\"candlestores\",\"title\":\"Candle Stores\"}],\"rating\":4.0,\"coordinates\":{\"latitude\":40.72842,\"longitude\":-73.98334},\"transactions\":[],\"price\":null,\"location\":{\"address1\":\"263 E 10th St\",\"address2\":\"\",\"address3\":null,\"city\":\"New York\",\"zip_code\":\"10009\",\"country\":\"US\",\"state\":\"NY\",\"display_address\":[\"263 E 10th St\",\"New York, NY 10009\"]},\"phone\":\"\",\"display_phone\":\"\",\"distance\":2730.0127744527},{\"id\":\"ga6sRtE0l85iftw_5-W84Q\",\"alias\":\"dominique-ansel-bakery-new-york\",\"name\":\"Dominique Ansel Bakery\",\"image_url\":\"https:\\\\/\\\\/s3-media3.fl.yelpcdn.com\\\\/bphoto\\\\/ZgNVcBgeREThhB-FQXz51Q\\\\/o.jpg\",\"is_closed\":false,\"url\":\"https:\\\\/\\\\/www.yelp.com\\\\/biz\\\\/dominique-ansel-bakery-new-york?adjust_creative=oRA1OcnNt5xStRQCGilLQA&utm_campaign=yelp_api_v3&utm_medium=api_v3_business_search&utm_source=oRA1OcnNt5xStRQCGilLQA\",\"review_count\":5404,\"categories\":[{\"alias\":\"bakeries\",\"title\":\"Bakeries\"},{\"alias\":\"desserts\",\"title\":\"Desserts\"}],\"rating\":4.0,\"coordinates\":{\"latitude\":40.72516,\"longitude\":-74.00296},\"transactions\":[\"delivery\"],\"price\":\"$$\",\"location\":{\"address1\":\"189 Spring St\",\"address2\":\"\",\"address3\":\"\",\"city\":\"New York\",\"zip_code\":\"10012\",\"country\":\"US\",\"state\":\"NY\",\"display_address\":[\"189 Spring St\",\"New York, NY 10012\"]},\"phone\":\"+12122192773\",\"display_phone\":\"(212) 219-2773\",\"distance\":2312.7692774304},{\"id\":\"VtJd1l64kqUUyWacwK0J2Q\",\"alias\":\"venieros-new-york-2\",\"name\":\"Veniero\\'s\",\"image_url\":\"https:\\\\/\\\\/s3-media4.fl.yelpcdn.com\\\\/bphoto\\\\/pMtdkncb9gTkja1DX0Tp6Q\\\\/o.jpg\",\"is_closed\":false,\"url\":\"https:\\\\/\\\\/www.yelp.com\\\\/biz\\\\/venieros-new-york-2?adjust_creative=oRA1OcnNt5xStRQCGilLQA&utm_campaign=yelp_api_v3&utm_medium=api_v3_business_search&utm_source=oRA1OcnNt5xStRQCGilLQA\",\"review_count\":2400,\"categories\":[{\"alias\":\"bakeries\",\"title\":\"Bakeries\"},{\"alias\":\"desserts\",\"title\":\"Desserts\"},{\"alias\":\"italian\",\"title\":\"Italian\"}],\"rating\":4.0,\"coordinates\":{\"latitude\":40.729431,\"longitude\":-73.984541},\"transactions\":[\"pickup\",\"delivery\"],\"price\":\"$$\",\"location\":{\"address1\":\"342 E 11th St\",\"address2\":\"\",\"address3\":\"\",\"city\":\"New York\",\"zip_code\":\"10003\",\"country\":\"US\",\"state\":\"NY\",\"display_address\":[\"342 E 11th St\",\"New York, NY 10003\"]},\"phone\":\"+12126747070\",\"display_phone\":\"(212) 674-7070\",\"distance\":2790.9003658892},{\"id\":\"pHfsXEPHkGXkmGo-PbwB6w\",\"alias\":\"keki-modern-cakes-new-york\",\"name\":\"Keki Modern Cakes\",\"image_url\":\"https:\\\\/\\\\/s3-media2.fl.yelpcdn.com\\\\/bphoto\\\\/uecbXo0a7qGf6pupc50Y-Q\\\\/o.jpg\",\"is_closed\":false,\"url\":\"https:\\\\/\\\\/www.yelp.com\\\\/biz\\\\/keki-modern-cakes-new-york?adjust_creative=oRA1OcnNt5xStRQCGilLQA&utm_campaign=yelp_api_v3&utm_medium=api_v3_business_search&utm_source=oRA1OcnNt5xStRQCGilLQA\",\"review_count\":744,\"categories\":[{\"alias\":\"bakeries\",\"title\":\"Bakeries\"},{\"alias\":\"desserts\",\"title\":\"Desserts\"}],\"rating\":4.0,\"coordinates\":{\"latitude\":40.71656,\"longitude\":-73.99822},\"transactions\":[\"pickup\",\"delivery\"],\"price\":\"$$\",\"location\":{\"address1\":\"79 Mott St\",\"address2\":\"\",\"address3\":null,\"city\":\"New York\",\"zip_code\":\"10013\",\"country\":\"US\",\"state\":\"NY\",\"display_address\":[\"79 Mott St\",\"New York, NY 10013\"]},\"phone\":\"+16468632094\",\"display_phone\":\"(646) 863-2094\",\"distance\":1276.2958662297},{\"id\":\"nyxmTe-It-tzfagvjkge1g\",\"alias\":\"burrow-brooklyn\",\"name\":\"Burrow\",\"image_url\":\"https:\\\\/\\\\/s3-media3.fl.yelpcdn.com\\\\/bphoto\\\\/mebngCLJHN05G7fD7ATclw\\\\/o.jpg\",\"is_closed\":false,\"url\":\"https:\\\\/\\\\/www.yelp.com\\\\/biz\\\\/burrow-brooklyn?adjust_creative=oRA1OcnNt5xStRQCGilLQA&utm_campaign=yelp_api_v3&utm_medium=api_v3_business_search&utm_source=oRA1OcnNt5xStRQCGilLQA\",\"review_count\":87,\"categories\":[{\"alias\":\"desserts\",\"title\":\"Desserts\"},{\"alias\":\"cakeshop\",\"title\":\"Patisserie\\\\/Cake Shop\"},{\"alias\":\"coffee\",\"title\":\"Coffee & Tea\"}],\"rating\":4.5,\"coordinates\":{\"latitude\":40.7027771713,\"longitude\":-73.9868041199},\"transactions\":[\"delivery\"],\"price\":\"$\",\"location\":{\"address1\":\"68 Jay St\",\"address2\":\"Ste 119\",\"address3\":\"\",\"city\":\"Brooklyn\",\"zip_code\":\"11201\",\"country\":\"US\",\"state\":\"NY\",\"display_address\":[\"68 Jay St\",\"Ste 119\",\"Brooklyn, NY 11201\"]},\"phone\":\"\",\"display_phone\":\"\",\"distance\":697.5143099293},{\"id\":\"myOSJHEZFUrfAsPiie9BCw\",\"alias\":\"maman-brooklyn-4\",\"name\":\"Maman\",\"image_url\":\"https:\\\\/\\\\/s3-media2.fl.yelpcdn.com\\\\/bphoto\\\\/znykTrZDlHWLTlwd0ay4Xw\\\\/o.jpg\",\"is_closed\":false,\"url\":\"https:\\\\/\\\\/www.yelp.com\\\\/biz\\\\/maman-brooklyn-4?adjust_creative=oRA1OcnNt5xStRQCGilLQA&utm_campaign=yelp_api_v3&utm_medium=api_v3_business_search&utm_source=oRA1OcnNt5xStRQCGilLQA\",\"review_count\":58,\"categories\":[{\"alias\":\"cafes\",\"title\":\"Cafes\"},{\"alias\":\"bakeries\",\"title\":\"Bakeries\"},{\"alias\":\"breakfast_brunch\",\"title\":\"Breakfast & Brunch\"}],\"rating\":4.0,\"coordinates\":{\"latitude\":40.68872,\"longitude\":-73.99301},\"transactions\":[\"pickup\",\"delivery\"],\"price\":\"$$\",\"location\":{\"address1\":\"154 Court St\",\"address2\":null,\"address3\":\"\",\"city\":\"Brooklyn\",\"zip_code\":\"11201\",\"country\":\"US\",\"state\":\"NY\",\"display_address\":[\"154 Court St\",\"Brooklyn, NY 11201\"]},\"phone\":\"\",\"display_phone\":\"\",\"distance\":1859.8522376565},{\"id\":\"QC8mHsBNu_PFEWI7eDmyLw\",\"alias\":\"elly-s-pastry-new-york\",\"name\":\"Elly\\\\u2019s Pastry\",\"image_url\":\"https:\\\\/\\\\/s3-media1.fl.yelpcdn.com\\\\/bphoto\\\\/Nx_vJE80LttKfKirTKspwA\\\\/o.jpg\",\"is_closed\":false,\"url\":\"https:\\\\/\\\\/www.yelp.com\\\\/biz\\\\/elly-s-pastry-new-york?adjust_creative=oRA1OcnNt5xStRQCGilLQA&utm_campaign=yelp_api_v3&utm_medium=api_v3_business_search&utm_source=oRA1OcnNt5xStRQCGilLQA\",\"review_count\":27,\"categories\":[{\"alias\":\"bakeries\",\"title\":\"Bakeries\"},{\"alias\":\"sandwiches\",\"title\":\"Sandwiches\"},{\"alias\":\"japanese\",\"title\":\"Japanese\"}],\"rating\":4.5,\"coordinates\":{\"latitude\":40.7469933457,\"longitude\":-73.9844542},\"transactions\":[\"pickup\",\"delivery\"],\"price\":null,\"location\":{\"address1\":\"11 E 32nd St\",\"address2\":\"\",\"address3\":null,\"city\":\"New York\",\"zip_code\":\"10016\",\"country\":\"US\",\"state\":\"NY\",\"display_address\":[\"11 E 32nd St\",\"New York, NY 10016\"]},\"phone\":\"\",\"display_phone\":\"\",\"distance\":4693.7821663136},{\"id\":\"LyWjwCnRzv2CZzPHuUpAsg\",\"alias\":\"the-evercake-manhattan\",\"name\":\"The Evercake\",\"image_url\":\"https:\\\\/\\\\/s3-media3.fl.yelpcdn.com\\\\/bphoto\\\\/Ph5g_zgT9nZ4l_9X7-hjOQ\\\\/o.jpg\",\"is_closed\":false,\"url\":\"https:\\\\/\\\\/www.yelp.com\\\\/biz\\\\/the-evercake-manhattan?adjust_creative=oRA1OcnNt5xStRQCGilLQA&utm_campaign=yelp_api_v3&utm_medium=api_v3_business_search&utm_source=oRA1OcnNt5xStRQCGilLQA\",\"review_count\":107,\"categories\":[{\"alias\":\"customcakes\",\"title\":\"Custom Cakes\"},{\"alias\":\"desserts\",\"title\":\"Desserts\"}],\"rating\":4.5,\"coordinates\":{\"latitude\":40.769348583,\"longitude\":-73.9586838577},\"transactions\":[],\"price\":null,\"location\":{\"address1\":null,\"address2\":null,\"address3\":null,\"city\":\"Manhattan\",\"zip_code\":\"10021\",\"country\":\"US\",\"state\":\"NY\",\"display_address\":[\"Manhattan, NY 10021\"]},\"phone\":\"+16463975769\",\"display_phone\":\"(646) 397-5769\",\"distance\":7713.1748536415},{\"id\":\"rVJ57CwEcucZg1k_y8u3Rg\",\"alias\":\"patisserie-fouet-new-york\",\"name\":\"Patisserie Fouet\",\"image_url\":\"https:\\\\/\\\\/s3-media1.fl.yelpcdn.com\\\\/bphoto\\\\/Wn2bCOwelk2YXO0pkgUtVQ\\\\/o.jpg\",\"is_closed\":false,\"url\":\"https:\\\\/\\\\/www.yelp.com\\\\/biz\\\\/patisserie-fouet-new-york?adjust_creative=oRA1OcnNt5xStRQCGilLQA&utm_campaign=yelp_api_v3&utm_medium=api_v3_business_search&utm_source=oRA1OcnNt5xStRQCGilLQA\",\"review_count\":452,\"categories\":[{\"alias\":\"coffee\",\"title\":\"Coffee & Tea\"},{\"alias\":\"desserts\",\"title\":\"Desserts\"},{\"alias\":\"wine_bars\",\"title\":\"Wine Bars\"}],\"rating\":4.0,\"coordinates\":{\"latitude\":40.735034,\"longitude\":-73.993047},\"transactions\":[\"pickup\",\"delivery\"],\"price\":\"$$\",\"location\":{\"address1\":\"15 E 13th St\",\"address2\":\"\",\"address3\":null,\"city\":\"New York\",\"zip_code\":\"10003\",\"country\":\"US\",\"state\":\"NY\",\"display_address\":[\"15 E 13th St\",\"New York, NY 10003\"]},\"phone\":\"+12126200622\",\"display_phone\":\"(212) 620-0622\",\"distance\":3291.8339168303},{\"id\":\"Yeyu5eTxwQLwAzixJpQ05Q\",\"alias\":\"petit-chou-new-york\",\"name\":\"Petit Chou\",\"image_url\":\"https:\\\\/\\\\/s3-media3.fl.yelpcdn.com\\\\/bphoto\\\\/OLm3tia-bRfhUtnEG1sNUw\\\\/o.jpg\",\"is_closed\":false,\"url\":\"https:\\\\/\\\\/www.yelp.com\\\\/biz\\\\/petit-chou-new-york?adjust_creative=oRA1OcnNt5xStRQCGilLQA&utm_campaign=yelp_api_v3&utm_medium=api_v3_business_search&utm_source=oRA1OcnNt5xStRQCGilLQA\",\"review_count\":155,\"categories\":[{\"alias\":\"bakeries\",\"title\":\"Bakeries\"},{\"alias\":\"cakeshop\",\"title\":\"Patisserie\\\\/Cake Shop\"},{\"alias\":\"desserts\",\"title\":\"Desserts\"}],\"rating\":4.5,\"coordinates\":{\"latitude\":40.731112,\"longitude\":-73.983104},\"transactions\":[\"pickup\",\"delivery\"],\"price\":\"$$\",\"location\":{\"address1\":\"229 1st Ave\",\"address2\":null,\"address3\":\"\",\"city\":\"New York\",\"zip_code\":\"10003\",\"country\":\"US\",\"state\":\"NY\",\"display_address\":[\"229 1st Ave\",\"New York, NY 10003\"]},\"phone\":\"+19174751620\",\"display_phone\":\"(917) 475-1620\",\"distance\":3005.9825916468},{\"id\":\"H7QoApSloy7Zu0LFpQVv-A\",\"alias\":\"keki-modern-cakes-new-york-2\",\"name\":\"Keki Modern Cakes\",\"image_url\":\"https:\\\\/\\\\/s3-media3.fl.yelpcdn.com\\\\/bphoto\\\\/y9LYeX5c2QnPxFBpx9MoPQ\\\\/o.jpg\",\"is_closed\":false,\"url\":\"https:\\\\/\\\\/www.yelp.com\\\\/biz\\\\/keki-modern-cakes-new-york-2?adjust_creative=oRA1OcnNt5xStRQCGilLQA&utm_campaign=yelp_api_v3&utm_medium=api_v3_business_search&utm_source=oRA1OcnNt5xStRQCGilLQA\",\"review_count\":505,\"categories\":[{\"alias\":\"bakeries\",\"title\":\"Bakeries\"},{\"alias\":\"desserts\",\"title\":\"Desserts\"}],\"rating\":4.5,\"coordinates\":{\"latitude\":40.7468603,\"longitude\":-73.984986},\"transactions\":[\"pickup\",\"delivery\"],\"price\":\"$$\",\"location\":{\"address1\":\"315 5th Ave\",\"address2\":\"\",\"address3\":\"\",\"city\":\"New York\",\"zip_code\":\"10016\",\"country\":\"US\",\"state\":\"NY\",\"display_address\":[\"315 5th Ave\",\"New York, NY 10016\"]},\"phone\":\"+12128890251\",\"display_phone\":\"(212) 889-0251\",\"distance\":4671.4894110058},{\"id\":\"M-1k30Dgcc1OxZ8buddE4Q\",\"alias\":\"harbs-soho-new-york-3\",\"name\":\"HARBS SoHo\",\"image_url\":\"https:\\\\/\\\\/s3-media4.fl.yelpcdn.com\\\\/bphoto\\\\/DVTLf9LLVL0UwqCKCuQH_w\\\\/o.jpg\",\"is_closed\":false,\"url\":\"https:\\\\/\\\\/www.yelp.com\\\\/biz\\\\/harbs-soho-new-york-3?adjust_creative=oRA1OcnNt5xStRQCGilLQA&utm_campaign=yelp_api_v3&utm_medium=api_v3_business_search&utm_source=oRA1OcnNt5xStRQCGilLQA\",\"review_count\":248,\"categories\":[{\"alias\":\"bakeries\",\"title\":\"Bakeries\"},{\"alias\":\"coffee\",\"title\":\"Coffee & Tea\"},{\"alias\":\"sandwiches\",\"title\":\"Sandwiches\"}],\"rating\":3.5,\"coordinates\":{\"latitude\":40.726366,\"longitude\":-74.000015},\"transactions\":[\"delivery\"],\"price\":\"$$\",\"location\":{\"address1\":\"465 W Broadway\",\"address2\":\"\",\"address3\":null,\"city\":\"New York\",\"zip_code\":\"10012\",\"country\":\"US\",\"state\":\"NY\",\"display_address\":[\"465 W Broadway\",\"New York, NY 10012\"]},\"phone\":\"+12124731981\",\"display_phone\":\"(212) 473-1981\",\"distance\":2375.5503095556},{\"id\":\"3t4VJC1vyUGk0aaem3b5ng\",\"alias\":\"ceremonia-bakeshop-brooklyn\",\"name\":\"Ceremonia Bakeshop\",\"image_url\":\"https:\\\\/\\\\/s3-media4.fl.yelpcdn.com\\\\/bphoto\\\\/iQ5fF6wjhOOhDFLm4nZsLA\\\\/o.jpg\",\"is_closed\":false,\"url\":\"https:\\\\/\\\\/www.yelp.com\\\\/biz\\\\/ceremonia-bakeshop-brooklyn?adjust_creative=oRA1OcnNt5xStRQCGilLQA&utm_campaign=yelp_api_v3&utm_medium=api_v3_business_search&utm_source=oRA1OcnNt5xStRQCGilLQA\",\"review_count\":171,\"categories\":[{\"alias\":\"bakeries\",\"title\":\"Bakeries\"}],\"rating\":5.0,\"coordinates\":{\"latitude\":40.7125,\"longitude\":-73.96056},\"transactions\":[\"delivery\"],\"price\":null,\"location\":{\"address1\":\"743 Driggs Ave\",\"address2\":null,\"address3\":\"\",\"city\":\"Brooklyn\",\"zip_code\":\"11211\",\"country\":\"US\",\"state\":\"NY\",\"display_address\":[\"743 Driggs Ave\",\"Brooklyn, NY 11211\"]},\"phone\":\"+13473842212\",\"display_phone\":\"(347) 384-2212\",\"distance\":2950.6016007951},{\"id\":\"s1pJHjoce-IbHQiCe4mA3w\",\"alias\":\"marthas-country-bakery-brooklyn-2\",\"name\":\"Martha\\'s Country Bakery\",\"image_url\":\"https:\\\\/\\\\/s3-media1.fl.yelpcdn.com\\\\/bphoto\\\\/So6BeZ1ZbMgbh7Wi5QvXLw\\\\/o.jpg\",\"is_closed\":false,\"url\":\"https:\\\\/\\\\/www.yelp.com\\\\/biz\\\\/marthas-country-bakery-brooklyn-2?adjust_creative=oRA1OcnNt5xStRQCGilLQA&utm_campaign=yelp_api_v3&utm_medium=api_v3_business_search&utm_source=oRA1OcnNt5xStRQCGilLQA\",\"review_count\":1026,\"categories\":[{\"alias\":\"bakeries\",\"title\":\"Bakeries\"},{\"alias\":\"coffee\",\"title\":\"Coffee & Tea\"},{\"alias\":\"desserts\",\"title\":\"Desserts\"}],\"rating\":4.5,\"coordinates\":{\"latitude\":40.7149190584,\"longitude\":-73.9605422385},\"transactions\":[\"delivery\"],\"price\":\"$$\",\"location\":{\"address1\":\"263 Bedford Ave\",\"address2\":\"\",\"address3\":null,\"city\":\"Brooklyn\",\"zip_code\":\"11211\",\"country\":\"US\",\"state\":\"NY\",\"display_address\":[\"263 Bedford Ave\",\"Brooklyn, NY 11211\"]},\"phone\":\"+17185990900\",\"display_phone\":\"(718) 599-0900\",\"distance\":3033.5896332709},{\"id\":\"jWC4mD-yy-IzuZxU5ctAKw\",\"alias\":\"mias-bakery-brooklyn\",\"name\":\"Mia\\'s Bakery\",\"image_url\":\"https:\\\\/\\\\/s3-media2.fl.yelpcdn.com\\\\/bphoto\\\\/-soBQtUWqlrk3Ztrad9d-w\\\\/o.jpg\",\"is_closed\":false,\"url\":\"https:\\\\/\\\\/www.yelp.com\\\\/biz\\\\/mias-bakery-brooklyn?adjust_creative=oRA1OcnNt5xStRQCGilLQA&utm_campaign=yelp_api_v3&utm_medium=api_v3_business_search&utm_source=oRA1OcnNt5xStRQCGilLQA\",\"review_count\":1106,\"categories\":[{\"alias\":\"bakeries\",\"title\":\"Bakeries\"},{\"alias\":\"cafes\",\"title\":\"Cafes\"},{\"alias\":\"desserts\",\"title\":\"Desserts\"}],\"rating\":4.5,\"coordinates\":{\"latitude\":40.6870199,\"longitude\":-73.9901299},\"transactions\":[\"delivery\",\"pickup\"],\"price\":\"$$\",\"location\":{\"address1\":\"139 Smith St\",\"address2\":null,\"address3\":\"\",\"city\":\"Brooklyn\",\"zip_code\":\"11201\",\"country\":\"US\",\"state\":\"NY\",\"display_address\":[\"139 Smith St\",\"Brooklyn, NY 11201\"]},\"phone\":\"+13479873194\",\"display_phone\":\"(347) 987-3194\",\"distance\":2081.025885949},{\"id\":\"5jykT4A_mz1lgWk6btnZbw\",\"alias\":\"lady-wong-new-york\",\"name\":\"Lady Wong\",\"image_url\":\"https:\\\\/\\\\/s3-media3.fl.yelpcdn.com\\\\/bphoto\\\\/OgLViI70GHbdVEZdP7aLcg\\\\/o.jpg\",\"is_closed\":false,\"url\":\"https:\\\\/\\\\/www.yelp.com\\\\/biz\\\\/lady-wong-new-york?adjust_creative=oRA1OcnNt5xStRQCGilLQA&utm_campaign=yelp_api_v3&utm_medium=api_v3_business_search&utm_source=oRA1OcnNt5xStRQCGilLQA\",\"review_count\":222,\"categories\":[{\"alias\":\"bakeries\",\"title\":\"Bakeries\"},{\"alias\":\"desserts\",\"title\":\"Desserts\"}],\"rating\":4.5,\"coordinates\":{\"latitude\":40.7285088308,\"longitude\":-73.9861517027},\"transactions\":[],\"price\":null,\"location\":{\"address1\":\"332 E 9th St\",\"address2\":\"\",\"address3\":null,\"city\":\"New York\",\"zip_code\":\"10003\",\"country\":\"US\",\"state\":\"NY\",\"display_address\":[\"332 E 9th St\",\"New York, NY 10003\"]},\"phone\":\"+16464227189\",\"display_phone\":\"(646) 422-7189\",\"distance\":2654.7980615613},{\"id\":\"GlPJPpKvPR4d8dmcSEYpdA\",\"alias\":\"takahachi-bakery-new-york\",\"name\":\"Takahachi Bakery\",\"image_url\":\"https:\\\\/\\\\/s3-media4.fl.yelpcdn.com\\\\/bphoto\\\\/PCiqy58NGEFul3LZ8jgBig\\\\/o.jpg\",\"is_closed\":false,\"url\":\"https:\\\\/\\\\/www.yelp.com\\\\/biz\\\\/takahachi-bakery-new-york?adjust_creative=oRA1OcnNt5xStRQCGilLQA&utm_campaign=yelp_api_v3&utm_medium=api_v3_business_search&utm_source=oRA1OcnNt5xStRQCGilLQA\",\"review_count\":1036,\"categories\":[{\"alias\":\"bakeries\",\"title\":\"Bakeries\"},{\"alias\":\"japanese\",\"title\":\"Japanese\"},{\"alias\":\"coffee\",\"title\":\"Coffee & Tea\"}],\"rating\":4.0,\"coordinates\":{\"latitude\":40.71373,\"longitude\":-74.00843},\"transactions\":[\"delivery\",\"pickup\"],\"price\":\"$$\",\"location\":{\"address1\":\"25 Murray St\",\"address2\":\"\",\"address3\":\"\",\"city\":\"New York\",\"zip_code\":\"10007\",\"country\":\"US\",\"state\":\"NY\",\"display_address\":[\"25 Murray St\",\"New York, NY 10007\"]},\"phone\":\"+12127915550\",\"display_phone\":\"(212) 791-5550\",\"distance\":1509.7340230357},{\"id\":\"0tJEDmeNMLueSGLNTF0JFg\",\"alias\":\"angelina-bakery-new-york\",\"name\":\"Angelina Bakery\",\"image_url\":\"https:\\\\/\\\\/s3-media1.fl.yelpcdn.com\\\\/bphoto\\\\/olKH0rscc_JteE9OzTEvQA\\\\/o.jpg\",\"is_closed\":false,\"url\":\"https:\\\\/\\\\/www.yelp.com\\\\/biz\\\\/angelina-bakery-new-york?adjust_creative=oRA1OcnNt5xStRQCGilLQA&utm_campaign=yelp_api_v3&utm_medium=api_v3_business_search&utm_source=oRA1OcnNt5xStRQCGilLQA\",\"review_count\":637,\"categories\":[{\"alias\":\"bakeries\",\"title\":\"Bakeries\"},{\"alias\":\"desserts\",\"title\":\"Desserts\"},{\"alias\":\"donuts\",\"title\":\"Donuts\"}],\"rating\":4.5,\"coordinates\":{\"latitude\":40.75498,\"longitude\":-73.99166},\"transactions\":[\"delivery\",\"pickup\"],\"price\":\"$$\",\"location\":{\"address1\":\"575 8th Ave\",\"address2\":null,\"address3\":\"\",\"city\":\"New York\",\"zip_code\":\"10018\",\"country\":\"US\",\"state\":\"NY\",\"display_address\":[\"575 8th Ave\",\"New York, NY 10018\"]},\"phone\":\"+12126877100\",\"display_phone\":\"(212) 687-7100\",\"distance\":5517.1766807246},{\"id\":\"aDtpySFIJO5C3ULTlSOfkw\",\"alias\":\"capy-new-york-6\",\"name\":\"Capy\",\"image_url\":\"https:\\\\/\\\\/s3-media1.fl.yelpcdn.com\\\\/bphoto\\\\/Q4cJpNis9sIP93OVIPWHEg\\\\/o.jpg\",\"is_closed\":false,\"url\":\"https:\\\\/\\\\/www.yelp.com\\\\/biz\\\\/capy-new-york-6?adjust_creative=oRA1OcnNt5xStRQCGilLQA&utm_campaign=yelp_api_v3&utm_medium=api_v3_business_search&utm_source=oRA1OcnNt5xStRQCGilLQA\",\"review_count\":29,\"categories\":[{\"alias\":\"bakeries\",\"title\":\"Bakeries\"},{\"alias\":\"desserts\",\"title\":\"Desserts\"}],\"rating\":4.5,\"coordinates\":{\"latitude\":40.7180109352,\"longitude\":-73.9978693953},\"transactions\":[],\"price\":\"$$\",\"location\":{\"address1\":\"128 Mulberry St\",\"address2\":\"\",\"address3\":null,\"city\":\"New York\",\"zip_code\":\"10013\",\"country\":\"US\",\"state\":\"NY\",\"display_address\":[\"128 Mulberry St\",\"New York, NY 10013\"]},\"phone\":\"\",\"display_phone\":\"\",\"distance\":1429.4233382684},{\"id\":\"MBQg0-g_iiIEY4hzLiezKg\",\"alias\":\"kuih-cafe-new-york\",\"name\":\"Kuih Cafe\",\"image_url\":\"https:\\\\/\\\\/s3-media2.fl.yelpcdn.com\\\\/bphoto\\\\/mJ0PPCwmRLh_0-L0sx7eMQ\\\\/o.jpg\",\"is_closed\":false,\"url\":\"https:\\\\/\\\\/www.yelp.com\\\\/biz\\\\/kuih-cafe-new-york?adjust_creative=oRA1OcnNt5xStRQCGilLQA&utm_campaign=yelp_api_v3&utm_medium=api_v3_business_search&utm_source=oRA1OcnNt5xStRQCGilLQA\",\"review_count\":86,\"categories\":[{\"alias\":\"desserts\",\"title\":\"Desserts\"},{\"alias\":\"malaysian\",\"title\":\"Malaysian\"},{\"alias\":\"cafes\",\"title\":\"Cafes\"}],\"rating\":4.5,\"coordinates\":{\"latitude\":40.7159528408,\"longitude\":-73.993002671},\"transactions\":[\"delivery\"],\"price\":null,\"location\":{\"address1\":\"46 Eldridge St\",\"address2\":null,\"address3\":\"\",\"city\":\"New York\",\"zip_code\":\"10002\",\"country\":\"US\",\"state\":\"NY\",\"display_address\":[\"46 Eldridge St\",\"New York, NY 10002\"]},\"phone\":\"+16467999340\",\"display_phone\":\"(646) 799-9340\",\"distance\":1173.4847241125},{\"id\":\"8hdjmWfjOB6o37xrCzhoug\",\"alias\":\"from-lucie-new-york\",\"name\":\"From Lucie\",\"image_url\":\"https:\\\\/\\\\/s3-media1.fl.yelpcdn.com\\\\/bphoto\\\\/Aq9kjCCDrFOz4lj75W2aig\\\\/o.jpg\",\"is_closed\":false,\"url\":\"https:\\\\/\\\\/www.yelp.com\\\\/biz\\\\/from-lucie-new-york?adjust_creative=oRA1OcnNt5xStRQCGilLQA&utm_campaign=yelp_api_v3&utm_medium=api_v3_business_search&utm_source=oRA1OcnNt5xStRQCGilLQA\",\"review_count\":61,\"categories\":[{\"alias\":\"customcakes\",\"title\":\"Custom Cakes\"},{\"alias\":\"candlestores\",\"title\":\"Candle Stores\"}],\"rating\":4.0,\"coordinates\":{\"latitude\":40.72842,\"longitude\":-73.98334},\"transactions\":[],\"price\":null,\"location\":{\"address1\":\"263 E 10th St\",\"address2\":\"\",\"address3\":null,\"city\":\"New York\",\"zip_code\":\"10009\",\"country\":\"US\",\"state\":\"NY\",\"display_address\":[\"263 E 10th St\",\"New York, NY 10009\"]},\"phone\":\"\",\"display_phone\":\"\",\"distance\":2730.0127744527},{\"id\":\"ga6sRtE0l85iftw_5-W84Q\",\"alias\":\"dominique-ansel-bakery-new-york\",\"name\":\"Dominique Ansel Bakery\",\"image_url\":\"https:\\\\/\\\\/s3-media3.fl.yelpcdn.com\\\\/bphoto\\\\/ZgNVcBgeREThhB-FQXz51Q\\\\/o.jpg\",\"is_closed\":false,\"url\":\"https:\\\\/\\\\/www.yelp.com\\\\/biz\\\\/dominique-ansel-bakery-new-york?adjust_creative=oRA1OcnNt5xStRQCGilLQA&utm_campaign=yelp_api_v3&utm_medium=api_v3_business_search&utm_source=oRA1OcnNt5xStRQCGilLQA\",\"review_count\":5404,\"categories\":[{\"alias\":\"bakeries\",\"title\":\"Bakeries\"},{\"alias\":\"desserts\",\"title\":\"Desserts\"}],\"rating\":4.0,\"coordinates\":{\"latitude\":40.72516,\"longitude\":-74.00296},\"transactions\":[\"delivery\"],\"price\":\"$$\",\"location\":{\"address1\":\"189 Spring St\",\"address2\":\"\",\"address3\":\"\",\"city\":\"New York\",\"zip_code\":\"10012\",\"country\":\"US\",\"state\":\"NY\",\"display_address\":[\"189 Spring St\",\"New York, NY 10012\"]},\"phone\":\"+12122192773\",\"display_phone\":\"(212) 219-2773\",\"distance\":2312.7692774304},{\"id\":\"pHfsXEPHkGXkmGo-PbwB6w\",\"alias\":\"keki-modern-cakes-new-york\",\"name\":\"Keki Modern Cakes\",\"image_url\":\"https:\\\\/\\\\/s3-media2.fl.yelpcdn.com\\\\/bphoto\\\\/uecbXo0a7qGf6pupc50Y-Q\\\\/o.jpg\",\"is_closed\":false,\"url\":\"https:\\\\/\\\\/www.yelp.com\\\\/biz\\\\/keki-modern-cakes-new-york?adjust_creative=oRA1OcnNt5xStRQCGilLQA&utm_campaign=yelp_api_v3&utm_medium=api_v3_business_search&utm_source=oRA1OcnNt5xStRQCGilLQA\",\"review_count\":744,\"categories\":[{\"alias\":\"bakeries\",\"title\":\"Bakeries\"},{\"alias\":\"desserts\",\"title\":\"Desserts\"}],\"rating\":4.0,\"coordinates\":{\"latitude\":40.71656,\"longitude\":-73.99822},\"transactions\":[\"delivery\",\"pickup\"],\"price\":\"$$\",\"location\":{\"address1\":\"79 Mott St\",\"address2\":\"\",\"address3\":null,\"city\":\"New York\",\"zip_code\":\"10013\",\"country\":\"US\",\"state\":\"NY\",\"display_address\":[\"79 Mott St\",\"New York, NY 10013\"]},\"phone\":\"+16468632094\",\"display_phone\":\"(646) 863-2094\",\"distance\":1276.2958662297},{\"id\":\"nyxmTe-It-tzfagvjkge1g\",\"alias\":\"burrow-brooklyn\",\"name\":\"Burrow\",\"image_url\":\"https:\\\\/\\\\/s3-media3.fl.yelpcdn.com\\\\/bphoto\\\\/mebngCLJHN05G7fD7ATclw\\\\/o.jpg\",\"is_closed\":false,\"url\":\"https:\\\\/\\\\/www.yelp.com\\\\/biz\\\\/burrow-brooklyn?adjust_creative=oRA1OcnNt5xStRQCGilLQA&utm_campaign=yelp_api_v3&utm_medium=api_v3_business_search&utm_source=oRA1OcnNt5xStRQCGilLQA\",\"review_count\":87,\"categories\":[{\"alias\":\"desserts\",\"title\":\"Desserts\"},{\"alias\":\"cakeshop\",\"title\":\"Patisserie\\\\/Cake Shop\"},{\"alias\":\"coffee\",\"title\":\"Coffee & Tea\"}],\"rating\":4.5,\"coordinates\":{\"latitude\":40.7027771713,\"longitude\":-73.9868041199},\"transactions\":[\"delivery\"],\"price\":\"$\",\"location\":{\"address1\":\"68 Jay St\",\"address2\":\"Ste 119\",\"address3\":\"\",\"city\":\"Brooklyn\",\"zip_code\":\"11201\",\"country\":\"US\",\"state\":\"NY\",\"display_address\":[\"68 Jay St\",\"Ste 119\",\"Brooklyn, NY 11201\"]},\"phone\":\"\",\"display_phone\":\"\",\"distance\":697.5143099293},{\"id\":\"myOSJHEZFUrfAsPiie9BCw\",\"alias\":\"maman-brooklyn-4\",\"name\":\"Maman\",\"image_url\":\"https:\\\\/\\\\/s3-media2.fl.yelpcdn.com\\\\/bphoto\\\\/znykTrZDlHWLTlwd0ay4Xw\\\\/o.jpg\",\"is_closed\":false,\"url\":\"https:\\\\/\\\\/www.yelp.com\\\\/biz\\\\/maman-brooklyn-4?adjust_creative=oRA1OcnNt5xStRQCGilLQA&utm_campaign=yelp_api_v3&utm_medium=api_v3_business_search&utm_source=oRA1OcnNt5xStRQCGilLQA\",\"review_count\":58,\"categories\":[{\"alias\":\"cafes\",\"title\":\"Cafes\"},{\"alias\":\"bakeries\",\"title\":\"Bakeries\"},{\"alias\":\"breakfast_brunch\",\"title\":\"Breakfast & Brunch\"}],\"rating\":4.0,\"coordinates\":{\"latitude\":40.68872,\"longitude\":-73.99301},\"transactions\":[\"delivery\",\"pickup\"],\"price\":\"$$\",\"location\":{\"address1\":\"154 Court St\",\"address2\":null,\"address3\":\"\",\"city\":\"Brooklyn\",\"zip_code\":\"11201\",\"country\":\"US\",\"state\":\"NY\",\"display_address\":[\"154 Court St\",\"Brooklyn, NY 11201\"]},\"phone\":\"\",\"display_phone\":\"\",\"distance\":1859.8522376565},{\"id\":\"QC8mHsBNu_PFEWI7eDmyLw\",\"alias\":\"elly-s-pastry-new-york\",\"name\":\"Elly\\\\u2019s Pastry\",\"image_url\":\"https:\\\\/\\\\/s3-media1.fl.yelpcdn.com\\\\/bphoto\\\\/Nx_vJE80LttKfKirTKspwA\\\\/o.jpg\",\"is_closed\":false,\"url\":\"https:\\\\/\\\\/www.yelp.com\\\\/biz\\\\/elly-s-pastry-new-york?adjust_creative=oRA1OcnNt5xStRQCGilLQA&utm_campaign=yelp_api_v3&utm_medium=api_v3_business_search&utm_source=oRA1OcnNt5xStRQCGilLQA\",\"review_count\":27,\"categories\":[{\"alias\":\"bakeries\",\"title\":\"Bakeries\"},{\"alias\":\"sandwiches\",\"title\":\"Sandwiches\"},{\"alias\":\"japanese\",\"title\":\"Japanese\"}],\"rating\":4.5,\"coordinates\":{\"latitude\":40.7469933457,\"longitude\":-73.9844542},\"transactions\":[\"delivery\",\"pickup\"],\"price\":null,\"location\":{\"address1\":\"11 E 32nd St\",\"address2\":\"\",\"address3\":null,\"city\":\"New York\",\"zip_code\":\"10016\",\"country\":\"US\",\"state\":\"NY\",\"display_address\":[\"11 E 32nd St\",\"New York, NY 10016\"]},\"phone\":\"\",\"display_phone\":\"\",\"distance\":4693.7821663136},{\"id\":\"LyWjwCnRzv2CZzPHuUpAsg\",\"alias\":\"the-evercake-manhattan\",\"name\":\"The Evercake\",\"image_url\":\"https:\\\\/\\\\/s3-media3.fl.yelpcdn.com\\\\/bphoto\\\\/Ph5g_zgT9nZ4l_9X7-hjOQ\\\\/o.jpg\",\"is_closed\":false,\"url\":\"https:\\\\/\\\\/www.yelp.com\\\\/biz\\\\/the-evercake-manhattan?adjust_creative=oRA1OcnNt5xStRQCGilLQA&utm_campaign=yelp_api_v3&utm_medium=api_v3_business_search&utm_source=oRA1OcnNt5xStRQCGilLQA\",\"review_count\":107,\"categories\":[{\"alias\":\"customcakes\",\"title\":\"Custom Cakes\"},{\"alias\":\"desserts\",\"title\":\"Desserts\"}],\"rating\":4.5,\"coordinates\":{\"latitude\":40.769348583,\"longitude\":-73.9586838577},\"transactions\":[],\"price\":null,\"location\":{\"address1\":null,\"address2\":null,\"address3\":null,\"city\":\"Manhattan\",\"zip_code\":\"10021\",\"country\":\"US\",\"state\":\"NY\",\"display_address\":[\"Manhattan, NY 10021\"]},\"phone\":\"+16463975769\",\"display_phone\":\"(646) 397-5769\",\"distance\":7713.1748536415},{\"id\":\"rVJ57CwEcucZg1k_y8u3Rg\",\"alias\":\"patisserie-fouet-new-york\",\"name\":\"Patisserie Fouet\",\"image_url\":\"https:\\\\/\\\\/s3-media1.fl.yelpcdn.com\\\\/bphoto\\\\/Wn2bCOwelk2YXO0pkgUtVQ\\\\/o.jpg\",\"is_closed\":false,\"url\":\"https:\\\\/\\\\/www.yelp.com\\\\/biz\\\\/patisserie-fouet-new-york?adjust_creative=oRA1OcnNt5xStRQCGilLQA&utm_campaign=yelp_api_v3&utm_medium=api_v3_business_search&utm_source=oRA1OcnNt5xStRQCGilLQA\",\"review_count\":452,\"categories\":[{\"alias\":\"coffee\",\"title\":\"Coffee & Tea\"},{\"alias\":\"desserts\",\"title\":\"Desserts\"},{\"alias\":\"wine_bars\",\"title\":\"Wine Bars\"}],\"rating\":4.0,\"coordinates\":{\"latitude\":40.735034,\"longitude\":-73.993047},\"transactions\":[\"delivery\",\"pickup\"],\"price\":\"$$\",\"location\":{\"address1\":\"15 E 13th St\",\"address2\":\"\",\"address3\":null,\"city\":\"New York\",\"zip_code\":\"10003\",\"country\":\"US\",\"state\":\"NY\",\"display_address\":[\"15 E 13th St\",\"New York, NY 10003\"]},\"phone\":\"+12126200622\",\"display_phone\":\"(212) 620-0622\",\"distance\":3291.8339168303},{\"id\":\"Yeyu5eTxwQLwAzixJpQ05Q\",\"alias\":\"petit-chou-new-york\",\"name\":\"Petit Chou\",\"image_url\":\"https:\\\\/\\\\/s3-media3.fl.yelpcdn.com\\\\/bphoto\\\\/OLm3tia-bRfhUtnEG1sNUw\\\\/o.jpg\",\"is_closed\":false,\"url\":\"https:\\\\/\\\\/www.yelp.com\\\\/biz\\\\/petit-chou-new-york?adjust_creative=oRA1OcnNt5xStRQCGilLQA&utm_campaign=yelp_api_v3&utm_medium=api_v3_business_search&utm_source=oRA1OcnNt5xStRQCGilLQA\",\"review_count\":155,\"categories\":[{\"alias\":\"bakeries\",\"title\":\"Bakeries\"},{\"alias\":\"cakeshop\",\"title\":\"Patisserie\\\\/Cake Shop\"},{\"alias\":\"desserts\",\"title\":\"Desserts\"}],\"rating\":4.5,\"coordinates\":{\"latitude\":40.731112,\"longitude\":-73.983104},\"transactions\":[\"delivery\",\"pickup\"],\"price\":\"$$\",\"location\":{\"address1\":\"229 1st Ave\",\"address2\":null,\"address3\":\"\",\"city\":\"New York\",\"zip_code\":\"10003\",\"country\":\"US\",\"state\":\"NY\",\"display_address\":[\"229 1st Ave\",\"New York, NY 10003\"]},\"phone\":\"+19174751620\",\"display_phone\":\"(917) 475-1620\",\"distance\":3005.9825916468},{\"id\":\"M-1k30Dgcc1OxZ8buddE4Q\",\"alias\":\"harbs-soho-new-york-3\",\"name\":\"HARBS SoHo\",\"image_url\":\"https:\\\\/\\\\/s3-media4.fl.yelpcdn.com\\\\/bphoto\\\\/DVTLf9LLVL0UwqCKCuQH_w\\\\/o.jpg\",\"is_closed\":false,\"url\":\"https:\\\\/\\\\/www.yelp.com\\\\/biz\\\\/harbs-soho-new-york-3?adjust_creative=oRA1OcnNt5xStRQCGilLQA&utm_campaign=yelp_api_v3&utm_medium=api_v3_business_search&utm_source=oRA1OcnNt5xStRQCGilLQA\",\"review_count\":248,\"categories\":[{\"alias\":\"bakeries\",\"title\":\"Bakeries\"},{\"alias\":\"coffee\",\"title\":\"Coffee & Tea\"},{\"alias\":\"sandwiches\",\"title\":\"Sandwiches\"}],\"rating\":3.5,\"coordinates\":{\"latitude\":40.726366,\"longitude\":-74.000015},\"transactions\":[\"delivery\"],\"price\":\"$$\",\"location\":{\"address1\":\"465 W Broadway\",\"address2\":\"\",\"address3\":null,\"city\":\"New York\",\"zip_code\":\"10012\",\"country\":\"US\",\"state\":\"NY\",\"display_address\":[\"465 W Broadway\",\"New York, NY 10012\"]},\"phone\":\"+12124731981\",\"display_phone\":\"(212) 473-1981\",\"distance\":2375.5503095556},{\"id\":\"3t4VJC1vyUGk0aaem3b5ng\",\"alias\":\"ceremonia-bakeshop-brooklyn\",\"name\":\"Ceremonia Bakeshop\",\"image_url\":\"https:\\\\/\\\\/s3-media4.fl.yelpcdn.com\\\\/bphoto\\\\/iQ5fF6wjhOOhDFLm4nZsLA\\\\/o.jpg\",\"is_closed\":false,\"url\":\"https:\\\\/\\\\/www.yelp.com\\\\/biz\\\\/ceremonia-bakeshop-brooklyn?adjust_creative=oRA1OcnNt5xStRQCGilLQA&utm_campaign=yelp_api_v3&utm_medium=api_v3_business_search&utm_source=oRA1OcnNt5xStRQCGilLQA\",\"review_count\":171,\"categories\":[{\"alias\":\"bakeries\",\"title\":\"Bakeries\"}],\"rating\":5.0,\"coordinates\":{\"latitude\":40.7125,\"longitude\":-73.96056},\"transactions\":[\"delivery\"],\"price\":null,\"location\":{\"address1\":\"743 Driggs Ave\",\"address2\":null,\"address3\":\"\",\"city\":\"Brooklyn\",\"zip_code\":\"11211\",\"country\":\"US\",\"state\":\"NY\",\"display_address\":[\"743 Driggs Ave\",\"Brooklyn, NY 11211\"]},\"phone\":\"+13473842212\",\"display_phone\":\"(347) 384-2212\",\"distance\":2950.6016007951},{\"id\":\"s1pJHjoce-IbHQiCe4mA3w\",\"alias\":\"marthas-country-bakery-brooklyn-2\",\"name\":\"Martha\\'s Country Bakery\",\"image_url\":\"https:\\\\/\\\\/s3-media1.fl.yelpcdn.com\\\\/bphoto\\\\/So6BeZ1ZbMgbh7Wi5QvXLw\\\\/o.jpg\",\"is_closed\":false,\"url\":\"https:\\\\/\\\\/www.yelp.com\\\\/biz\\\\/marthas-country-bakery-brooklyn-2?adjust_creative=oRA1OcnNt5xStRQCGilLQA&utm_campaign=yelp_api_v3&utm_medium=api_v3_business_search&utm_source=oRA1OcnNt5xStRQCGilLQA\",\"review_count\":1026,\"categories\":[{\"alias\":\"bakeries\",\"title\":\"Bakeries\"},{\"alias\":\"coffee\",\"title\":\"Coffee & Tea\"},{\"alias\":\"desserts\",\"title\":\"Desserts\"}],\"rating\":4.5,\"coordinates\":{\"latitude\":40.7149190584,\"longitude\":-73.9605422385},\"transactions\":[\"delivery\"],\"price\":\"$$\",\"location\":{\"address1\":\"263 Bedford Ave\",\"address2\":\"\",\"address3\":null,\"city\":\"Brooklyn\",\"zip_code\":\"11211\",\"country\":\"US\",\"state\":\"NY\",\"display_address\":[\"263 Bedford Ave\",\"Brooklyn, NY 11211\"]},\"phone\":\"+17185990900\",\"display_phone\":\"(718) 599-0900\",\"distance\":3033.5896332709},{\"id\":\"xpDp5zKQJHu7Ljgs1PKLJw\",\"alias\":\"la-cabra-new-york-2\",\"name\":\"La Cabra\",\"image_url\":\"https:\\\\/\\\\/s3-media1.fl.yelpcdn.com\\\\/bphoto\\\\/0DzZgS4ox_S9DUGQgfYirw\\\\/o.jpg\",\"is_closed\":false,\"url\":\"https:\\\\/\\\\/www.yelp.com\\\\/biz\\\\/la-cabra-new-york-2?adjust_creative=oRA1OcnNt5xStRQCGilLQA&utm_campaign=yelp_api_v3&utm_medium=api_v3_business_search&utm_source=oRA1OcnNt5xStRQCGilLQA\",\"review_count\":288,\"categories\":[{\"alias\":\"bakeries\",\"title\":\"Bakeries\"},{\"alias\":\"cafes\",\"title\":\"Cafes\"},{\"alias\":\"coffee\",\"title\":\"Coffee & Tea\"}],\"rating\":4.5,\"coordinates\":{\"latitude\":40.7294630362,\"longitude\":-73.9868481248},\"transactions\":[],\"price\":\"$$\",\"location\":{\"address1\":\"152 2nd Ave\",\"address2\":\"\",\"address3\":null,\"city\":\"New York\",\"zip_code\":\"10003\",\"country\":\"US\",\"state\":\"NY\",\"display_address\":[\"152 2nd Ave\",\"New York, NY 10003\"]},\"phone\":\"\",\"display_phone\":\"\",\"distance\":2743.4146017214},{\"id\":\"Tns-1BJip9a6K-O6V2pyUQ\",\"alias\":\"red-gate-bakery-new-york\",\"name\":\"Red Gate Bakery\",\"image_url\":\"https:\\\\/\\\\/s3-media1.fl.yelpcdn.com\\\\/bphoto\\\\/mVEEjxPO6UTxROvWmluAUw\\\\/o.jpg\",\"is_closed\":false,\"url\":\"https:\\\\/\\\\/www.yelp.com\\\\/biz\\\\/red-gate-bakery-new-york?adjust_creative=oRA1OcnNt5xStRQCGilLQA&utm_campaign=yelp_api_v3&utm_medium=api_v3_business_search&utm_source=oRA1OcnNt5xStRQCGilLQA\",\"review_count\":80,\"categories\":[{\"alias\":\"bakeries\",\"title\":\"Bakeries\"},{\"alias\":\"desserts\",\"title\":\"Desserts\"},{\"alias\":\"customcakes\",\"title\":\"Custom Cakes\"}],\"rating\":4.5,\"coordinates\":{\"latitude\":40.723717,\"longitude\":-73.988806},\"transactions\":[\"delivery\",\"pickup\"],\"price\":null,\"location\":{\"address1\":\"68 E 1st St\",\"address2\":\"\",\"address3\":null,\"city\":\"New York\",\"zip_code\":\"10003\",\"country\":\"US\",\"state\":\"NY\",\"display_address\":[\"68 E 1st St\",\"New York, NY 10003\"]},\"phone\":\"+16468705553\",\"display_phone\":\"(646) 870-5553\",\"distance\":2081.3552305883}]'"
      ]
     },
     "execution_count": 43,
     "metadata": {},
     "output_type": "execute_result"
    }
   ],
   "source": [
    "all_cake.to_json(orient='records')"
   ]
  }
 ],
 "metadata": {
  "kernelspec": {
   "display_name": "Python 3 (ipykernel)",
   "language": "python",
   "name": "python3"
  },
  "language_info": {
   "codemirror_mode": {
    "name": "ipython",
    "version": 3
   },
   "file_extension": ".py",
   "mimetype": "text/x-python",
   "name": "python",
   "nbconvert_exporter": "python",
   "pygments_lexer": "ipython3",
   "version": "3.10.10"
  },
  "widgets": {
   "application/vnd.jupyter.widget-state+json": {
    "state": {},
    "version_major": 2,
    "version_minor": 0
   }
  }
 },
 "nbformat": 4,
 "nbformat_minor": 5
}
